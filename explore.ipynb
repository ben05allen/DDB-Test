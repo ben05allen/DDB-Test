{
 "cells": [
  {
   "cell_type": "code",
   "execution_count": null,
   "metadata": {},
   "outputs": [],
   "source": [
    "import duckdb"
   ]
  },
  {
   "cell_type": "code",
   "execution_count": null,
   "metadata": {},
   "outputs": [],
   "source": [
    "duckdb.sql(\"CREATE TABLE bromley AS SELECT * FROM 'data/43967__Max_Min_Temperature__H.csv'\")"
   ]
  },
  {
   "cell_type": "code",
   "execution_count": null,
   "metadata": {},
   "outputs": [],
   "source": [
    "duckdb.sql(\"\"\"DESCRIBE bromley\"\"\")"
   ]
  },
  {
   "cell_type": "code",
   "execution_count": null,
   "metadata": {},
   "outputs": [],
   "source": [
    "duckdb.sql(\"\"\"\n",
    "           SELECT \"Observation time UTC\"::DATE AS day\n",
    "               , MIN(\"Minimum Temperature [Deg C]\") AS sparrows_min\n",
    "               , MAX(\"Maximum Temperature [Deg C]\") AS sparrows_max\n",
    "               , ROUND(AVG(\"Mean Temperature [Deg C]\"), 1) AS sparrows_average\n",
    "           FROM bromley \n",
    "           WHERE strftime('%H', \"Observation time UTC\") BETWEEN '06' AND '09'\n",
    "           GROUP BY \"Observation time UTC\"::DATE\n",
    "           HAVING COUNT(*) = 4\n",
    "           \"\"\")\n"
   ]
  },
  {
   "cell_type": "code",
   "execution_count": null,
   "metadata": {},
   "outputs": [],
   "source": [
    "duckdb.sql(\"\"\"\n",
    "            WITH local_time AS (\n",
    "                SELECT timezone('Pacific/Auckland', timezone('UTC', \"Observation time UTC\")) AS time\n",
    "                        , strftime('%m', timezone('Pacific/Auckland', timezone('UTC', \"Observation time UTC\"))) AS month\n",
    "                        , \"Minimum Temperature [Deg C]\" AS sparrows_min \n",
    "                        , \"Maximum Temperature [Deg C]\" AS sparrows_max\n",
    "                        , \"Mean Temperature [Deg C]\" AS sparrows_average\n",
    "                FROM bromley            \n",
    "            )\n",
    "            SELECT strftime('%B', ('2000-' || month || '-01')::Date) as month_name\n",
    "                , MIN(sparrows_min) as min_temp \n",
    "                , ROUND(AVG(sparrows_min), 1) as mean_min_temp \n",
    "                , MAX(sparrows_max) as max_temp \n",
    "                , ROUND(AVG(sparrows_max), 1) as mean_max_temp \n",
    "                , ROUND(AVG(sparrows_average), 1) as mean_temp \n",
    "                , ROUND(stddev_samp(sparrows_average), 1) as stdev_temp\n",
    "            FROM local_time\n",
    "            WHERE strftime('%H', time) BETWEEN '05' AND '09'\n",
    "            GROUP BY month\n",
    "            ORDER BY month\n",
    "            \"\"\")\n"
   ]
  }
 ],
 "metadata": {
  "kernelspec": {
   "display_name": ".venv",
   "language": "python",
   "name": "python3"
  },
  "language_info": {
   "codemirror_mode": {
    "name": "ipython",
    "version": 3
   },
   "file_extension": ".py",
   "mimetype": "text/x-python",
   "name": "python",
   "nbconvert_exporter": "python",
   "pygments_lexer": "ipython3",
   "version": "3.11.10"
  }
 },
 "nbformat": 4,
 "nbformat_minor": 2
}
